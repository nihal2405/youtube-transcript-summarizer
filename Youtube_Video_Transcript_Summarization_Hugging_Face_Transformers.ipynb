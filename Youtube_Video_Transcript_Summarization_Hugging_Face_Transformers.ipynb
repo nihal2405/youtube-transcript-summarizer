{
  "cells": [
    {
      "cell_type": "code",
      "execution_count": 4,
      "metadata": {
        "id": "tlpumP3FVaX1"
      },
      "outputs": [],
      "source": [
        "!pip install -q transformers"
      ]
    },
    {
      "cell_type": "code",
      "execution_count": 5,
      "metadata": {
        "id": "MerNIV9hVeCy"
      },
      "outputs": [],
      "source": [
        "!pip install -q youtube_transcript_api"
      ]
    },
    {
      "cell_type": "code",
      "execution_count": 6,
      "metadata": {
        "id": "S4ppPcuNVWJs"
      },
      "outputs": [],
      "source": [
        "from transformers import pipeline\n",
        "from youtube_transcript_api import YouTubeTranscriptApi\n"
      ]
    },
    {
      "cell_type": "code",
      "execution_count": 7,
      "metadata": {
        "id": "nadgLmS-XGCN"
      },
      "outputs": [],
      "source": [
        "youtube_video = \"https://www.youtube.com/watch?v=eIho2S0ZahI\""
      ]
    },
    {
      "cell_type": "code",
      "execution_count": 8,
      "metadata": {
        "id": "MugczqjFXLtr"
      },
      "outputs": [],
      "source": [
        "video_id = youtube_video.split(\"=\")[1]"
      ]
    },
    {
      "cell_type": "code",
      "execution_count": 9,
      "metadata": {
        "colab": {
          "base_uri": "https://localhost:8080/",
          "height": 36
        },
        "id": "NDQTbtiqekvX",
        "outputId": "3cd89e23-4669-42d4-a58f-b2f4ef28e659"
      },
      "outputs": [
        {
          "output_type": "execute_result",
          "data": {
            "text/plain": [
              "'eIho2S0ZahI'"
            ],
            "application/vnd.google.colaboratory.intrinsic+json": {
              "type": "string"
            }
          },
          "metadata": {},
          "execution_count": 9
        }
      ],
      "source": [
        "video_id"
      ]
    },
    {
      "cell_type": "code",
      "execution_count": 10,
      "metadata": {
        "colab": {
          "base_uri": "https://localhost:8080/",
          "height": 322
        },
        "id": "KLQNhfZBYWVe",
        "outputId": "09d2f7a3-b7f8-4bd2-8927-67a67d22350c"
      },
      "outputs": [
        {
          "output_type": "execute_result",
          "data": {
            "text/plain": [
              "<IPython.lib.display.YouTubeVideo at 0x7b125cc861a0>"
            ],
            "text/html": [
              "\n",
              "        <iframe\n",
              "            width=\"400\"\n",
              "            height=\"300\"\n",
              "            src=\"https://www.youtube.com/embed/eIho2S0ZahI\"\n",
              "            frameborder=\"0\"\n",
              "            allowfullscreen\n",
              "            \n",
              "        ></iframe>\n",
              "        "
            ],
            "image/jpeg": "[encoded data removed]"
          },
          "metadata": {},
          "execution_count": 10
        }
      ],
      "source": [
        "from IPython.display import YouTubeVideo\n",
        "YouTubeVideo(video_id)"
      ]
    },
    {
      "cell_type": "code",
      "execution_count": 11,
      "metadata": {
        "id": "_sxrnhDVXXhR"
      },
      "outputs": [],
      "source": [
        "YouTubeTranscriptApi.get_transcript(video_id)\n",
        "transcript = YouTubeTranscriptApi.get_transcript(video_id)\n"
      ]
    },
    {
      "cell_type": "code",
      "execution_count": 12,
      "metadata": {
        "colab": {
          "base_uri": "https://localhost:8080/"
        },
        "id": "OtepAI30e7gp",
        "outputId": "9ef53f60-de0a-45b4-9f25-68631a5d91dc"
      },
      "outputs": [
        {
          "output_type": "execute_result",
          "data": {
            "text/plain": [
              "[{'text': 'The human voice:', 'start': 13.96, 'duration': 2.086},\n",
              " {'text': \"It's the instrument we all play.\",\n",
              "  'start': 16.07,\n",
              "  'duration': 1.564},\n",
              " {'text': \"It's the most powerful sound\\nin the world, probably.\",\n",
              "  'start': 18.61,\n",
              "  'duration': 2.459},\n",
              " {'text': 'It\\'s the only one that can start a war\\nor say \"I love you.\"',\n",
              "  'start': 21.093,\n",
              "  'duration': 2.823},\n",
              " {'text': 'And yet many people have the experience',\n",
              "  'start': 23.94,\n",
              "  'duration': 1.858}]"
            ]
          },
          "metadata": {},
          "execution_count": 12
        }
      ],
      "source": [
        "transcript[0:5]"
      ]
    },
    {
      "cell_type": "code",
      "execution_count": 13,
      "metadata": {
        "colab": {
          "base_uri": "https://localhost:8080/"
        },
        "id": "yOZD8yvoVZWb",
        "outputId": "0620d801-1c79-41e8-cb28-df108b63421d"
      },
      "outputs": [
        {
          "output_type": "stream",
          "name": "stdout",
          "text": [
            "9108\n"
          ]
        }
      ],
      "source": [
        "\n",
        "result = \"\"\n",
        "for i in transcript:\n",
        "    result += ' ' + i['text']\n",
        "#print(result)\n",
        "print(len(result))"
      ]
    },
    {
      "cell_type": "code",
      "execution_count": 14,
      "metadata": {
        "colab": {
          "base_uri": "https://localhost:8080/",
          "height": 212,
          "referenced_widgets": [
            "56906c72408d42a3b31ce3a8ccaaf772",
            "e96fbfa7b2a7405a8024f72ea34878b8",
            "5d52e11ac4b548fd9c17226aafe6e86a",
            "334f7b3e56d94c4cbdea34830c43e464",
            "4faf98207f484b3e97da39b125a0c0ea",
            "a9e03f7f20a3498b8c84214d94921499",
            "077bf281620048c3ab7ef725d64c475e",
            "0a8e89ecf8674c7599db226212408429",
            "7b7a4dae12de46cb8641ccb2267e8de9",
            "b12000b6c2384f189dd52ba726a19c51",
            "47a961cab55f4959ad9f9c7f054ea4fc",
            "7570e9a788c646ea813388b08d4b33a7",
            "45a35b3415a1462aa69263f9fc3bccd2",
            "7cf7c1612f9d458298bd95d8061122f8",
            "20e11e1523314c7da6b61ccd7ba41046",
            "d3056735f62b4cda81a505234a1f4bdd",
            "ea1a9dfd3e8c4f4597f71684980e8222",
            "bcd9f0bb94e04257b8cef0e17f1d7154",
            "d2dd9c09fb844f2081dea58b4ceaf773",
            "9d99bbbc6630495f8b4c3c6291501b78",
            "39fae5da923941cfa8e00725c302cb0f",
            "f69527d80f544c9da6c9c0d259fd1443",
            "79467e6699cd470d8df65454ce052201",
            "5389aa827344479d8ddf02ee8e0c78cd",
            "cb8028587544436286b794a88ac729a0",
            "0825c34a55d045cd9c0512bdbaff1979",
            "e2129b83b95d4148a5729c9d4856d208",
            "dd5f46c6206f420d9c22efe83b1d9968",
            "92e09d743ca34ed696708404075b5dc7",
            "2ad59bef21074e05a1408658f0e1ee4b",
            "92ef9ec33f4f440b8f83ca820981c706",
            "d21b243edac1456c8567c16692720555",
            "3d236e3b6efe437289aabd692df6328a",
            "af16f2e645974b8a9f326e8540b3067e",
            "8d07432735554bb9a1d9dfbfc59527e4",
            "b102d6b20ce643848ce2e5f2d3294d0e",
            "60a3e66a4ac44d26b56953ada2da56f1",
            "70f9a684530a49cfacdf39ba7b6c21f8",
            "3c8d73aefa19493f95392371e0a2b4c4",
            "4080291d59944a7b94df8adc9cdfce06",
            "86e9c42a85e247478bb723c04777fec6",
            "e28892141a824343b5e4e48808d5e204",
            "90105d810e544b28b78c9c632a6490c7",
            "2a5338e2bc7f489b8af13599e2089429",
            "afce4c169e504e97a5140e067a04a756",
            "ca65940d8dc649b1a10f822a8dd341fe",
            "007aceaaaf284491a497396c74ac8b33",
            "0f4aedc70aaa434e874b21f647a068d4",
            "b4b8377272cd4f2b9e4f8e13bfaa5068",
            "f1f9de01d6b542199ba907d96c70eb3a",
            "1982f1bd5b8b449c9ac5f5dedd546a7a",
            "0458ab7384874a1994b6d95d59427976",
            "211c2abfcdc94ef8aa0854d6551b40ad",
            "4ad9f5b8b4b543ae8f2b0ee4dfb49767",
            "82c7e89015bc4bf5a248e72b75569555"
          ]
        },
        "id": "WwzF8ncWYbu7",
        "outputId": "a3ba909b-2665-476d-a9b2-ba555f772a52"
      },
      "outputs": [
        {
          "output_type": "stream",
          "name": "stderr",
          "text": [
            "No model was supplied, defaulted to sshleifer/distilbart-cnn-12-6 and revision a4f8f3e (https://huggingface.co/sshleifer/distilbart-cnn-12-6).\n",
            "Using a pipeline without specifying a model name and revision in production is not recommended.\n"
          ]
        },
        {
          "output_type": "display_data",
          "data": {
            "text/plain": [
              "config.json:   0%|          | 0.00/1.80k [00:00<?, ?B/s]"
            ],
            "application/vnd.jupyter.widget-view+json": {
              "version_major": 2,
              "version_minor": 0,
              "model_id": "56906c72408d42a3b31ce3a8ccaaf772"
            }
          },
          "metadata": {}
        },
        {
          "output_type": "display_data",
          "data": {
            "text/plain": [
              "pytorch_model.bin:   0%|          | 0.00/1.22G [00:00<?, ?B/s]"
            ],
            "application/vnd.jupyter.widget-view+json": {
              "version_major": 2,
              "version_minor": 0,
              "model_id": "7570e9a788c646ea813388b08d4b33a7"
            }
          },
          "metadata": {}
        },
        {
          "output_type": "display_data",
          "data": {
            "text/plain": [
              "tokenizer_config.json:   0%|          | 0.00/26.0 [00:00<?, ?B/s]"
            ],
            "application/vnd.jupyter.widget-view+json": {
              "version_major": 2,
              "version_minor": 0,
              "model_id": "79467e6699cd470d8df65454ce052201"
            }
          },
          "metadata": {}
        },
        {
          "output_type": "display_data",
          "data": {
            "text/plain": [
              "vocab.json:   0%|          | 0.00/899k [00:00<?, ?B/s]"
            ],
            "application/vnd.jupyter.widget-view+json": {
              "version_major": 2,
              "version_minor": 0,
              "model_id": "af16f2e645974b8a9f326e8540b3067e"
            }
          },
          "metadata": {}
        },
        {
          "output_type": "display_data",
          "data": {
            "text/plain": [
              "merges.txt:   0%|          | 0.00/456k [00:00<?, ?B/s]"
            ],
            "application/vnd.jupyter.widget-view+json": {
              "version_major": 2,
              "version_minor": 0,
              "model_id": "afce4c169e504e97a5140e067a04a756"
            }
          },
          "metadata": {}
        }
      ],
      "source": [
        "summarizer = pipeline('summarization')"
      ]
    },
    {
      "cell_type": "code",
      "execution_count": 15,
      "metadata": {
        "colab": {
          "base_uri": "https://localhost:8080/"
        },
        "id": "mCz2lRhAV-G4",
        "outputId": "0c1e282c-51cb-4b5a-e6ab-31fdb90ea5d2"
      },
      "outputs": [
        {
          "output_type": "stream",
          "name": "stdout",
          "text": [
            "input text \n",
            " The human voice: It's the instrument we all play. It's the most powerful sound\n",
            "in the world, probably. It's the only one that can start a war\n",
            "or say \"I love you.\" And yet many people have the experience that when they speak, people\n",
            "don't listen to them. And why is that? How can we speak powerfully\n",
            "to make change in the world? What I'd like to suggest, there are a number of habits\n",
            "that we need to move away from. I've assembled for your pleasure here\n",
            "seven deadly sins of speaking. I'm not pretending\n",
            "this is an exhaustive list, but these seven, I think, are pretty large\n",
            "habits that we can all fall into. First, gossip. Speaking ill of somebody\n",
            "who's not present. Not a nice habit,\n",
            "and we know perfectly well the person gossiping, five minutes later,\n",
            "will be gossiping about us. Second, judging. We know people who are like this\n",
            "in conversation, and it's very hard to listen to somebody if you know that you're being judged\n",
            "and found wanting at the same time. Third, negativity. You can fall into\n",
            "Summarized text\n",
            " The human voice is the most powerful sound in the world, probably. It's the only one that can start a war or say \"I love you\" And yet many people have the experience that when they speak, people don't listen to them. What I'd like to suggest, there are a number of habits we need to move away from .\n",
            "input text \n",
            " this. My mother, in the last years of her life,\n",
            "became very negative, and it's hard to listen. I remember one day, I said to her,\n",
            "\"It's October 1 today,\" and she said, \"I know, isn't it dreadful?\" (Laughter) It's hard to listen\n",
            "when somebody's that negative. (Laughter) And another form\n",
            "of negativity, complaining. Well, this is the national art of the U.K. It's our national sport. We complain about the weather, sport,\n",
            "about politics, about everything, but actually, complaining is viral misery. It's not spreading sunshine\n",
            "and lightness in the world. Excuses. We've all met this guy. Maybe we've all been this guy. Some people have a blamethrower. They just pass it on to everybody else and don't take responsibility\n",
            "for their actions, and again, hard to listen\n",
            "to somebody who is being like that. Penultimate, the sixth of the seven, embroidery, exaggeration. It demeans our language,\n",
            "actually, sometimes. For example, if I see something\n",
            "that really is awesome, what do I call it? (Laughter) And\n",
            "Summarized text\n",
            " My mother, in the last years of her life, became very negative, and it's hard to listen to her . Complaining is viral misery. It's not spreading sunshine and lightness in the world. It demeans our language. Excuses are excuses. We've all met this guy.\n",
            "input text \n",
            " then, of course,\n",
            "this exaggeration becomes lying, and we don't want to listen\n",
            "to people we know are lying to us. And finally, dogmatism. The confusion of facts with opinions. When those two things get conflated, you're listening into the wind. You know, somebody is bombarding you\n",
            "with their opinions as if they were true. It's difficult to listen to that. So here they are, seven deadly\n",
            "sins of speaking. These are things I think we need to avoid. But is there a positive\n",
            "way to think about this? Yes, there is. I'd like to suggest that there are four\n",
            "really powerful cornerstones, foundations, that we can stand on if we want our speech to be powerful and to make\n",
            "change in the world. Fortunately, these things spell a word. The word is \"hail,\" and it has\n",
            "a great definition as well. I'm not talking about the stuff\n",
            "that falls from the sky and hits you on the head. I'm talking about this definition, to greet or acclaim enthusiastically, which is how I think\n",
            "our words will be received if we stan\n",
            "Summarized text\n",
            " The confusion of facts with opinions is difficult to listen to, says David Frum . He says there are four powerful cornerstones, foundations, that we can stand on if we want our speech to be powerful . Fortunately, these things spell a word: \"hail,\" and it has a great definition as well .\n",
            "input text \n",
            "d on these four things. So what do they stand for? See if you can guess. The H, honesty, of course, being true in what you say,\n",
            "being straight and clear. The A is authenticity,\n",
            "just being yourself. A friend of mine described it as\n",
            "standing in your own truth, which I think is a lovely way to put it. The I is integrity, being your word, actually doing what you say, and being somebody people can trust. And the L is love. I don't mean romantic love, but I do mean wishing people\n",
            "well, for two reasons. First of all, I think absolute honesty\n",
            "may not be what we want. I mean, my goodness,\n",
            "you look ugly this morning. Perhaps that's not necessary. Tempered with love, of course,\n",
            "honesty is a great thing. But also, if you're really\n",
            "wishing somebody well, it's very hard to judge\n",
            "them at the same time. I'm not even sure you can do\n",
            "those two things simultaneously. So hail. Also, now that's what you say, and it's like the old song,\n",
            "it is what you say, it's also the way that you say it. You have an amaz\n",
            "Summarized text\n",
            " H is honesty, of course, being true in what you say, being straight and clear . The A is authenticity, authenticity, just being yourself . The I is integrity, being your word, and being somebody people can trust . And the L is love. I don't mean romantic love, but I do mean wishing people well .\n",
            "input text \n",
            "ing toolbox. This instrument is incredible, and yet this is a toolbox\n",
            "that very few people have ever opened. I'd like to have a little rummage\n",
            "in there with you now and just pull a few tools out that you might like to take\n",
            "away and play with, which will increase\n",
            "the power of your speaking. Register, for example. Now, falsetto register may not\n",
            "be very useful most of the time, but there's a register in between. I'm not going to get very\n",
            "technical about this for any of you who are voice coaches. You can locate your voice, however. So if I talk up here in my nose,\n",
            "you can hear the difference. If I go down here in my throat, which is where most of us\n",
            "speak from most of the time. But if you want weight, you need to go down here to the chest. You hear the difference? We vote for politicians\n",
            "with lower voices, it's true, because we associate depth with power and with authority. That's register. Then we have timbre. It's the way your voice feels. Again, the research shows that we prefer voices\n",
            "\n",
            "Summarized text\n",
            " We vote for politicians with lower voices, it's true, because we associate depth with power and authority . Research shows that we prefer voices with depth and authority to those with depth . If you want weight, you need to go down here to the chest, you can hear the difference .\n",
            "input text \n",
            "which are rich, smooth, warm, like hot chocolate. Well if that's not you,\n",
            "that's not the end of the world, because you can train. Go and get a voice coach. And there are amazing things you can do with breathing, with posture,\n",
            "and with exercises to improve the timbre of your voice. Then prosody. I love prosody. This is the sing-song, the meta-language that we use in order to impart meaning. It's root one for meaning in conversation. People who speak all on one note\n",
            "are really quite hard to listen to if they don't have any prosody at all. That's where the word\n",
            "\"monotonic\" comes from, or monotonous, monotone. Also, we have repetitive\n",
            "prosody now coming in, where every sentence ends\n",
            "as if it were a question when it's actually not\n",
            "a question, it's a statement? (Laughter) And if you repeat that one, it's actually restricting your ability\n",
            "to communicate through prosody, which I think is a shame, so let's try and break that habit. Pace. I can get very excited by saying\n",
            "something really quickly\n",
            "Summarized text\n",
            " There are amazing things you can do with breathing, with posture and with exercises to improve the timbre of your voice . Prosody is the sing-song, the meta-language that we use in order to impart meaning . People who speak all on one note are hard to listen to if they don't have any prosody at all .\n",
            "input text \n",
            ", or I can slow right down to emphasize, and at the end of that, of course,\n",
            "is our old friend silence. There's nothing wrong with a bit\n",
            "of silence in a talk, is there? We don't have to fill it with ums and ahs. It can be very powerful. Of course, pitch often\n",
            "goes along with pace to indicate arousal, but you\n",
            "can do it just with pitch. Where did you leave my keys? (Higher pitch) Where did you\n",
            "leave my keys? So, slightly different meaning\n",
            "in those two deliveries. And finally, volume. (Loud) I can get really excited\n",
            "by using volume. Sorry about that, if I startled anybody. Or, I can have you really pay attention\n",
            "by getting very quiet. Some people broadcast the whole time. Try not to do that. That's called sodcasting, (Laughter) Imposing your sound on people around you\n",
            "carelessly and inconsiderately. Not nice. Of course, where this all comes\n",
            "into play most of all is when you've got something\n",
            "really important to do. It might be standing on a stage like this\n",
            "and giving a talk to people. It mi\n",
            "Summarized text\n",
            " There's nothing wrong with a bit of silence in a talk, is there? We don't have to fill it with ums and ahs . Pitch often goes along with pace to indicate arousal, but you can do it just with pitch . Some people broadcast the whole time. Try not to do that. That's called sodcasting .\n",
            "input text \n",
            "ght be proposing marriage, asking for a raise, a wedding speech. Whatever it is, if it's really important, you owe it to yourself\n",
            "to look at this toolbox and the engine that it's going to work on, and no engine works well\n",
            "without being warmed up. Warm up your voice. Actually, let me show you how to do that. Would you all like to stand\n",
            "up for a moment? I'm going to show you the six vocal warm-up exercises\n",
            "that I do before every talk I ever do. Any time you're going to talk\n",
            "to anybody important, do these. First, arms up, deep breath in, and sigh out, ahhhhh, like that. One more time. Ahhhh, very good. Now we're going to warm up our lips, and we're going to go Ba, Ba, Ba, Ba, Ba, Ba, Ba, Ba. Very good. And now, brrrrrrrrrr, just like when you were a kid. Brrrr. Now your lips\n",
            "should be coming alive. We're going to do the tongue next with exaggerated la, la, la,\n",
            "la, la, la, la, la, la. Beautiful. You're getting\n",
            "really good at this. And then, roll an R. Rrrrrrr. That's like champagne for the\n",
            "Summarized text\n",
            " I'm going to show you the six vocal warm-up exercises that I do before every talk I ever do . Any time you're going to talk about anything important, do these. Warm up your voice. warm up your lips, arms up, deep breath in, and sigh out, ahhhhh, like that. Now your lips should be coming alive. Roll an R. Rrrrrrr.\n",
            "input text \n",
            " tongue. Finally, and if I can only do one, the pros call this the siren. It's really good. It starts\n",
            "with \"we\" and goes to \"aw.\" The \"we\" is high, the \"aw\" is low. So you go, weeeaawww, weeeaawww. Fantastic. Give yourselves\n",
            "a round of applause. Take a seat, thank you. (Applause) Next time you speak, do those in advance. Now let me just put this\n",
            "in context to close. This is a serious point here. This is where we are now, right? We speak not very well to people who simply aren't listening in an environment that's all\n",
            "about noise and bad acoustics. I have talked about that on this stage\n",
            "in different phases. What would the world be like if we were speaking powerfully to people who were listening consciously in environments which were\n",
            "actually fit for purpose? Or to make that a bit larger, what would the world be like if we were creating sound consciously and consuming sound consciously and designing all our environments consciously for sound? That would be a world\n",
            "that does sound beautifu\n"
          ]
        },
        {
          "output_type": "stream",
          "name": "stderr",
          "text": [
            "Your max_length is set to 142, but your input_length is only 30. Since this is a summarization task, where outputs shorter than the input are typically wanted, you might consider decreasing max_length manually, e.g. summarizer('...', max_length=15)\n"
          ]
        },
        {
          "output_type": "stream",
          "name": "stdout",
          "text": [
            "Summarized text\n",
            " We speak not very well to people who simply aren't listening in an environment that's all about noise and bad acoustics . The pros call this the siren. It starts with \"we\" and goes to \"aw,\" the \"aw\" is low. Give yourselves a round of applause. Next time you speak, do those in advance. (Applause)\n",
            "input text \n",
            "l, and one where understanding\n",
            "would be the norm, and that is an idea worth spreading. Thank you. (Applause)\n",
            "Summarized text\n",
            " l, and one where understanding would be the norm, and that is an idea worth spreading . Thank you. (Applause) Thank you for your support in the UK. l, one of the world's most successful democracies . (Apprause) thank you. l .\n"
          ]
        }
      ],
      "source": [
        "num_iters = int(len(result)/1000)\n",
        "summarized_text = []\n",
        "for i in range(0, num_iters + 1):\n",
        "  start = 0\n",
        "  start = i * 1000\n",
        "  end = (i + 1) * 1000\n",
        "  print(\"input text \\n\" + result[start:end])\n",
        "  out = summarizer(result[start:end])\n",
        "  out = out[0]\n",
        "  out = out['summary_text']\n",
        "  print(\"Summarized text\\n\"+out)\n",
        "  summarized_text.append(out)\n",
        "\n",
        "#print(summarized_text)"
      ]
    },
    {
      "cell_type": "code",
      "execution_count": 16,
      "metadata": {
        "colab": {
          "base_uri": "https://localhost:8080/"
        },
        "id": "rLrIX_yJWHFo",
        "outputId": "13a3a06a-9b8a-43e4-8c7a-49d8dcac0c7a"
      },
      "outputs": [
        {
          "output_type": "execute_result",
          "data": {
            "text/plain": [
              "2888"
            ]
          },
          "metadata": {},
          "execution_count": 16
        }
      ],
      "source": [
        "len(str(summarized_text))"
      ]
    },
    {
      "cell_type": "code",
      "execution_count": 17,
      "metadata": {
        "id": "31mkg8GbcddH"
      },
      "outputs": [],
      "source": [
        "a = str(summarized_text)"
      ]
    },
    {
      "cell_type": "code",
      "execution_count": 18,
      "metadata": {
        "id": "F3X6nqKYhvgt"
      },
      "outputs": [],
      "source": [
        "a = a.replace('/', '')"
      ]
    },
    {
      "cell_type": "code",
      "source": [
        "print(a)"
      ],
      "metadata": {
        "id": "QVJ3ODpfgEzx",
        "outputId": "1c599ca0-369f-4ea4-b310-aa4707ff44e8",
        "colab": {
          "base_uri": "https://localhost:8080/"
        }
      },
      "execution_count": 19,
      "outputs": [
        {
          "output_type": "stream",
          "name": "stdout",
          "text": [
            "[' The human voice is the most powerful sound in the world, probably. It\\'s the only one that can start a war or say \"I love you\" And yet many people have the experience that when they speak, people don\\'t listen to them. What I\\'d like to suggest, there are a number of habits we need to move away from .', \" My mother, in the last years of her life, became very negative, and it's hard to listen to her . Complaining is viral misery. It's not spreading sunshine and lightness in the world. It demeans our language. Excuses are excuses. We've all met this guy.\", ' The confusion of facts with opinions is difficult to listen to, says David Frum . He says there are four powerful cornerstones, foundations, that we can stand on if we want our speech to be powerful . Fortunately, these things spell a word: \"hail,\" and it has a great definition as well .', \" H is honesty, of course, being true in what you say, being straight and clear . The A is authenticity, authenticity, just being yourself . The I is integrity, being your word, and being somebody people can trust . And the L is love. I don't mean romantic love, but I do mean wishing people well .\", \" We vote for politicians with lower voices, it's true, because we associate depth with power and authority . Research shows that we prefer voices with depth and authority to those with depth . If you want weight, you need to go down here to the chest, you can hear the difference .\", \" There are amazing things you can do with breathing, with posture and with exercises to improve the timbre of your voice . Prosody is the sing-song, the meta-language that we use in order to impart meaning . People who speak all on one note are hard to listen to if they don't have any prosody at all .\", \" There's nothing wrong with a bit of silence in a talk, is there? We don't have to fill it with ums and ahs . Pitch often goes along with pace to indicate arousal, but you can do it just with pitch . Some people broadcast the whole time. Try not to do that. That's called sodcasting .\", \" I'm going to show you the six vocal warm-up exercises that I do before every talk I ever do . Any time you're going to talk about anything important, do these. Warm up your voice. warm up your lips, arms up, deep breath in, and sigh out, ahhhhh, like that. Now your lips should be coming alive. Roll an R. Rrrrrrr.\", ' We speak not very well to people who simply aren\\'t listening in an environment that\\'s all about noise and bad acoustics . The pros call this the siren. It starts with \"we\" and goes to \"aw,\" the \"aw\" is low. Give yourselves a round of applause. Next time you speak, do those in advance. (Applause)', \" l, and one where understanding would be the norm, and that is an idea worth spreading . Thank you. (Applause) Thank you for your support in the UK. l, one of the world's most successful democracies . (Apprause) thank you. l .\"]\n"
          ]
        }
      ]
    },
    {
      "cell_type": "code",
      "source": [
        "a = a.replace(\"]\\\", '')"
      ],
      "metadata": {
        "id": "WK56x0VNgOD1"
      },
      "execution_count": null,
      "outputs": []
    },
    {
      "cell_type": "code",
      "source": [
        "a"
      ],
      "metadata": {
        "id": "pjrn13Bag8CM",
        "outputId": "962af312-57b8-44b7-ec73-345541743a54",
        "colab": {
          "base_uri": "https://localhost:8080/",
          "height": 123
        }
      },
      "execution_count": 20,
      "outputs": [
        {
          "output_type": "execute_result",
          "data": {
            "text/plain": [
              "'[\\' The human voice is the most powerful sound in the world, probably. It\\\\\\'s the only one that can start a war or say \"I love you\" And yet many people have the experience that when they speak, people don\\\\\\'t listen to them. What I\\\\\\'d like to suggest, there are a number of habits we need to move away from .\\', \" My mother, in the last years of her life, became very negative, and it\\'s hard to listen to her . Complaining is viral misery. It\\'s not spreading sunshine and lightness in the world. It demeans our language. Excuses are excuses. We\\'ve all met this guy.\", \\' The confusion of facts with opinions is difficult to listen to, says David Frum . He says there are four powerful cornerstones, foundations, that we can stand on if we want our speech to be powerful . Fortunately, these things spell a word: \"hail,\" and it has a great definition as well .\\', \" H is honesty, of course, being true in what you say, being straight and clear . The A is authenticity, authenticity, just being yourself . The I is integrity, being your word, and being somebody people can trust . And the L is love. I don\\'t mean romantic love, but I do mean wishing people well .\", \" We vote for politicians with lower voices, it\\'s true, because we associate depth with power and authority . Research shows that we prefer voices with depth and authority to those with depth . If you want weight, you need to go down here to the chest, you can hear the difference .\", \" There are amazing things you can do with breathing, with posture and with exercises to improve the timbre of your voice . Prosody is the sing-song, the meta-language that we use in order to impart meaning . People who speak all on one note are hard to listen to if they don\\'t have any prosody at all .\", \" There\\'s nothing wrong with a bit of silence in a talk, is there? We don\\'t have to fill it with ums and ahs . Pitch often goes along with pace to indicate arousal, but you can do it just with pitch . Some people broadcast the whole time. Try not to do that. That\\'s called sodcasting .\", \" I\\'m going to show you the six vocal warm-up exercises that I do before every talk I ever do . Any time you\\'re going to talk about anything important, do these. Warm up your voice. warm up your lips, arms up, deep breath in, and sigh out, ahhhhh, like that. Now your lips should be coming alive. Roll an R. Rrrrrrr.\", \\' We speak not very well to people who simply aren\\\\\\'t listening in an environment that\\\\\\'s all about noise and bad acoustics . The pros call this the siren. It starts with \"we\" and goes to \"aw,\" the \"aw\" is low. Give yourselves a round of applause. Next time you speak, do those in advance. (Applause)\\', \" l, and one where understanding would be the norm, and that is an idea worth spreading . Thank you. (Applause) Thank you for your support in the UK. l, one of the world\\'s most successful democracies . (Apprause) thank you. l .\"]'"
            ],
            "application/vnd.google.colaboratory.intrinsic+json": {
              "type": "string"
            }
          },
          "metadata": {},
          "execution_count": 20
        }
      ]
    },
    {
      "cell_type": "code",
      "source": [
        "# importing libraries\n",
        "import nltk\n",
        "nltk.download('punkt')\n",
        "nltk.download('stopwords')\n",
        "from nltk.corpus import stopwords\n",
        "from nltk.tokenize import word_tokenize, sent_tokenize\n",
        "\n",
        "# Input text - to summarize\n",
        "text = a\n",
        "\n",
        "# Tokenizing the text\n",
        "stopWords = set(stopwords.words(\"english\"))\n",
        "words = word_tokenize(text)\n",
        "\n",
        "# Creating a frequency table to keep the\n",
        "# score of each word\n",
        "\n",
        "freqTable = dict()\n",
        "for word in words:\n",
        "\tword = word.lower()\n",
        "\tif word in stopWords:\n",
        "\t\tcontinue\n",
        "\tif word in freqTable:\n",
        "\t\tfreqTable[word] += 1\n",
        "\telse:\n",
        "\t\tfreqTable[word] = 1\n",
        "\n",
        "# Creating a dictionary to keep the score\n",
        "# of each sentence\n",
        "sentences = sent_tokenize(text)\n",
        "sentenceValue = dict()\n",
        "\n",
        "for sentence in sentences:\n",
        "\tfor word, freq in freqTable.items():\n",
        "\t\tif word in sentence.lower():\n",
        "\t\t\tif sentence in sentenceValue:\n",
        "\t\t\t\tsentenceValue[sentence] += freq\n",
        "\t\t\telse:\n",
        "\t\t\t\tsentenceValue[sentence] = freq\n",
        "\n",
        "\n",
        "\n",
        "sumValues = 0\n",
        "for sentence in sentenceValue:\n",
        "\tsumValues += sentenceValue[sentence]\n",
        "\n",
        "# Average value of a sentence from the original text\n",
        "\n",
        "average = int(sumValues / len(sentenceValue))\n",
        "\n",
        "# Storing sentences into our summary.\n",
        "summary = ''\n",
        "for sentence in sentences:\n",
        "\tif (sentence in sentenceValue) and (sentenceValue[sentence] > (1.2 * average)):\n",
        "\t\tsummary += \" \" + sentence\n",
        "\n"
      ],
      "metadata": {
        "id": "mcx01-bBjVXY",
        "outputId": "82ca2e88-245d-452e-e9ce-daec4dddc564",
        "colab": {
          "base_uri": "https://localhost:8080/"
        }
      },
      "execution_count": 21,
      "outputs": [
        {
          "output_type": "stream",
          "name": "stderr",
          "text": [
            "[nltk_data] Downloading package punkt to /root/nltk_data...\n",
            "[nltk_data]   Unzipping tokenizers/punkt.zip.\n",
            "[nltk_data] Downloading package stopwords to /root/nltk_data...\n",
            "[nltk_data]   Unzipping corpora/stopwords.zip.\n"
          ]
        }
      ]
    },
    {
      "cell_type": "code",
      "source": [
        "print(summary)"
      ],
      "metadata": {
        "id": "zvBJyHtAju5F",
        "outputId": "1d0cc8ba-8a90-4797-b32d-f86e96b61aee",
        "colab": {
          "base_uri": "https://localhost:8080/"
        }
      },
      "execution_count": 22,
      "outputs": [
        {
          "output_type": "stream",
          "name": "stdout",
          "text": [
            " [' The human voice is the most powerful sound in the world, probably. It\\'s the only one that can start a war or say \"I love you\" And yet many people have the experience that when they speak, people don\\'t listen to them. What I\\'d like to suggest, there are a number of habits we need to move away from . ', \" My mother, in the last years of her life, became very negative, and it's hard to listen to her . \", ' The confusion of facts with opinions is difficult to listen to, says David Frum . He says there are four powerful cornerstones, foundations, that we can stand on if we want our speech to be powerful . Fortunately, these things spell a word: \"hail,\" and it has a great definition as well . ', \" H is honesty, of course, being true in what you say, being straight and clear . The I is integrity, being your word, and being somebody people can trust . I don't mean romantic love, but I do mean wishing people well . \", \" We vote for politicians with lower voices, it's true, because we associate depth with power and authority . \", \" There are amazing things you can do with breathing, with posture and with exercises to improve the timbre of your voice . Prosody is the sing-song, the meta-language that we use in order to impart meaning . Pitch often goes along with pace to indicate arousal, but you can do it just with pitch . \", \" I'm going to show you the six vocal warm-up exercises that I do before every talk I ever do . Any time you're going to talk about anything important, do these. warm up your lips, arms up, deep breath in, and sigh out, ahhhhh, like that. \", ' We speak not very well to people who simply aren\\'t listening in an environment that\\'s all about noise and bad acoustics . It starts with \"we\" and goes to \"aw,\" the \"aw\" is low. (Applause)', \" l, and one where understanding would be the norm, and that is an idea worth spreading . l, one of the world's most successful democracies .\n"
          ]
        }
      ]
    },
    {
      "cell_type": "code",
      "source": [
        "\n"
      ],
      "metadata": {
        "id": "UiZuNDYtwv3d"
      },
      "execution_count": 33,
      "outputs": []
    },
    {
      "cell_type": "code",
      "source": [],
      "metadata": {
        "id": "G9xBEYQt2XsW"
      },
      "execution_count": 33,
      "outputs": []
    },
    {
      "cell_type": "code",
      "source": [],
      "metadata": {
        "id": "JHLxHkr_4_3E"
      },
      "execution_count": 32,
      "outputs": []
    }
  ],
  "metadata": {
    "colab": {
      "provenance": []
    },
    "kernelspec": {
      "display_name": "Python 3",
      "name": "python3"
    },
    "language_info": {
      "name": "python"
    },
    "widgets": {
      "application/vnd.jupyter.widget-state+json": {
        "56906c72408d42a3b31ce3a8ccaaf772": {
          "model_module": "@jupyter-widgets/controls",
          "model_name": "HBoxModel",
          "model_module_version": "1.5.0",
          "state": {
            "_dom_classes": [],
            "_model_module": "@jupyter-widgets/controls",
            "_model_module_version": "1.5.0",
            "_model_name": "HBoxModel",
            "_view_count": null,
            "_view_module": "@jupyter-widgets/controls",
            "_view_module_version": "1.5.0",
            "_view_name": "HBoxView",
            "box_style": "",
            "children": [
              "IPY_MODEL_e96fbfa7b2a7405a8024f72ea34878b8",
              "IPY_MODEL_5d52e11ac4b548fd9c17226aafe6e86a",
              "IPY_MODEL_334f7b3e56d94c4cbdea34830c43e464"
            ],
            "layout": "IPY_MODEL_4faf98207f484b3e97da39b125a0c0ea"
          }
        },
        "e96fbfa7b2a7405a8024f72ea34878b8": {
          "model_module": "@jupyter-widgets/controls",
          "model_name": "HTMLModel",
          "model_module_version": "1.5.0",
          "state": {
            "_dom_classes": [],
            "_model_module": "@jupyter-widgets/controls",
            "_model_module_version": "1.5.0",
            "_model_name": "HTMLModel",
            "_view_count": null,
            "_view_module": "@jupyter-widgets/controls",
            "_view_module_version": "1.5.0",
            "_view_name": "HTMLView",
            "description": "",
            "description_tooltip": null,
            "layout": "IPY_MODEL_a9e03f7f20a3498b8c84214d94921499",
            "placeholder": "​",
            "style": "IPY_MODEL_077bf281620048c3ab7ef725d64c475e",
            "value": "config.json: 100%"
          }
        },
        "5d52e11ac4b548fd9c17226aafe6e86a": {
          "model_module": "@jupyter-widgets/controls",
          "model_name": "FloatProgressModel",
          "model_module_version": "1.5.0",
          "state": {
            "_dom_classes": [],
            "_model_module": "@jupyter-widgets/controls",
            "_model_module_version": "1.5.0",
            "_model_name": "FloatProgressModel",
            "_view_count": null,
            "_view_module": "@jupyter-widgets/controls",
            "_view_module_version": "1.5.0",
            "_view_name": "ProgressView",
            "bar_style": "success",
            "description": "",
            "description_tooltip": null,
            "layout": "IPY_MODEL_0a8e89ecf8674c7599db226212408429",
            "max": 1802,
            "min": 0,
            "orientation": "horizontal",
            "style": "IPY_MODEL_7b7a4dae12de46cb8641ccb2267e8de9",
            "value": 1802
          }
        },
        "334f7b3e56d94c4cbdea34830c43e464": {
          "model_module": "@jupyter-widgets/controls",
          "model_name": "HTMLModel",
          "model_module_version": "1.5.0",
          "state": {
            "_dom_classes": [],
            "_model_module": "@jupyter-widgets/controls",
            "_model_module_version": "1.5.0",
            "_model_name": "HTMLModel",
            "_view_count": null,
            "_view_module": "@jupyter-widgets/controls",
            "_view_module_version": "1.5.0",
            "_view_name": "HTMLView",
            "description": "",
            "description_tooltip": null,
            "layout": "IPY_MODEL_b12000b6c2384f189dd52ba726a19c51",
            "placeholder": "​",
            "style": "IPY_MODEL_47a961cab55f4959ad9f9c7f054ea4fc",
            "value": " 1.80k/1.80k [00:00&lt;00:00, 52.3kB/s]"
          }
        },
        "4faf98207f484b3e97da39b125a0c0ea": {
          "model_module": "@jupyter-widgets/base",
          "model_name": "LayoutModel",
          "model_module_version": "1.2.0",
          "state": {
            "_model_module": "@jupyter-widgets/base",
            "_model_module_version": "1.2.0",
            "_model_name": "LayoutModel",
            "_view_count": null,
            "_view_module": "@jupyter-widgets/base",
            "_view_module_version": "1.2.0",
            "_view_name": "LayoutView",
            "align_content": null,
            "align_items": null,
            "align_self": null,
            "border": null,
            "bottom": null,
            "display": null,
            "flex": null,
            "flex_flow": null,
            "grid_area": null,
            "grid_auto_columns": null,
            "grid_auto_flow": null,
            "grid_auto_rows": null,
            "grid_column": null,
            "grid_gap": null,
            "grid_row": null,
            "grid_template_areas": null,
            "grid_template_columns": null,
            "grid_template_rows": null,
            "height": null,
            "justify_content": null,
            "justify_items": null,
            "left": null,
            "margin": null,
            "max_height": null,
            "max_width": null,
            "min_height": null,
            "min_width": null,
            "object_fit": null,
            "object_position": null,
            "order": null,
            "overflow": null,
            "overflow_x": null,
            "overflow_y": null,
            "padding": null,
            "right": null,
            "top": null,
            "visibility": null,
            "width": null
          }
        },
        "a9e03f7f20a3498b8c84214d94921499": {
          "model_module": "@jupyter-widgets/base",
          "model_name": "LayoutModel",
          "model_module_version": "1.2.0",
          "state": {
            "_model_module": "@jupyter-widgets/base",
            "_model_module_version": "1.2.0",
            "_model_name": "LayoutModel",
            "_view_count": null,
            "_view_module": "@jupyter-widgets/base",
            "_view_module_version": "1.2.0",
            "_view_name": "LayoutView",
            "align_content": null,
            "align_items": null,
            "align_self": null,
            "border": null,
            "bottom": null,
            "display": null,
            "flex": null,
            "flex_flow": null,
            "grid_area": null,
            "grid_auto_columns": null,
            "grid_auto_flow": null,
            "grid_auto_rows": null,
            "grid_column": null,
            "grid_gap": null,
            "grid_row": null,
            "grid_template_areas": null,
            "grid_template_columns": null,
            "grid_template_rows": null,
            "height": null,
            "justify_content": null,
            "justify_items": null,
            "left": null,
            "margin": null,
            "max_height": null,
            "max_width": null,
            "min_height": null,
            "min_width": null,
            "object_fit": null,
            "object_position": null,
            "order": null,
            "overflow": null,
            "overflow_x": null,
            "overflow_y": null,
            "padding": null,
            "right": null,
            "top": null,
            "visibility": null,
            "width": null
          }
        },
        "077bf281620048c3ab7ef725d64c475e": {
          "model_module": "@jupyter-widgets/controls",
          "model_name": "DescriptionStyleModel",
          "model_module_version": "1.5.0",
          "state": {
            "_model_module": "@jupyter-widgets/controls",
            "_model_module_version": "1.5.0",
            "_model_name": "DescriptionStyleModel",
            "_view_count": null,
            "_view_module": "@jupyter-widgets/base",
            "_view_module_version": "1.2.0",
            "_view_name": "StyleView",
            "description_width": ""
          }
        },
        "0a8e89ecf8674c7599db226212408429": {
          "model_module": "@jupyter-widgets/base",
          "model_name": "LayoutModel",
          "model_module_version": "1.2.0",
          "state": {
            "_model_module": "@jupyter-widgets/base",
            "_model_module_version": "1.2.0",
            "_model_name": "LayoutModel",
            "_view_count": null,
            "_view_module": "@jupyter-widgets/base",
            "_view_module_version": "1.2.0",
            "_view_name": "LayoutView",
            "align_content": null,
            "align_items": null,
            "align_self": null,
            "border": null,
            "bottom": null,
            "display": null,
            "flex": null,
            "flex_flow": null,
            "grid_area": null,
            "grid_auto_columns": null,
            "grid_auto_flow": null,
            "grid_auto_rows": null,
            "grid_column": null,
            "grid_gap": null,
            "grid_row": null,
            "grid_template_areas": null,
            "grid_template_columns": null,
            "grid_template_rows": null,
            "height": null,
            "justify_content": null,
            "justify_items": null,
            "left": null,
            "margin": null,
            "max_height": null,
            "max_width": null,
            "min_height": null,
            "min_width": null,
            "object_fit": null,
            "object_position": null,
            "order": null,
            "overflow": null,
            "overflow_x": null,
            "overflow_y": null,
            "padding": null,
            "right": null,
            "top": null,
            "visibility": null,
            "width": null
          }
        },
        "7b7a4dae12de46cb8641ccb2267e8de9": {
          "model_module": "@jupyter-widgets/controls",
          "model_name": "ProgressStyleModel",
          "model_module_version": "1.5.0",
          "state": {
            "_model_module": "@jupyter-widgets/controls",
            "_model_module_version": "1.5.0",
            "_model_name": "ProgressStyleModel",
            "_view_count": null,
            "_view_module": "@jupyter-widgets/base",
            "_view_module_version": "1.2.0",
            "_view_name": "StyleView",
            "bar_color": null,
            "description_width": ""
          }
        },
        "b12000b6c2384f189dd52ba726a19c51": {
          "model_module": "@jupyter-widgets/base",
          "model_name": "LayoutModel",
          "model_module_version": "1.2.0",
          "state": {
            "_model_module": "@jupyter-widgets/base",
            "_model_module_version": "1.2.0",
            "_model_name": "LayoutModel",
            "_view_count": null,
            "_view_module": "@jupyter-widgets/base",
            "_view_module_version": "1.2.0",
            "_view_name": "LayoutView",
            "align_content": null,
            "align_items": null,
            "align_self": null,
            "border": null,
            "bottom": null,
            "display": null,
            "flex": null,
            "flex_flow": null,
            "grid_area": null,
            "grid_auto_columns": null,
            "grid_auto_flow": null,
            "grid_auto_rows": null,
            "grid_column": null,
            "grid_gap": null,
            "grid_row": null,
            "grid_template_areas": null,
            "grid_template_columns": null,
            "grid_template_rows": null,
            "height": null,
            "justify_content": null,
            "justify_items": null,
            "left": null,
            "margin": null,
            "max_height": null,
            "max_width": null,
            "min_height": null,
            "min_width": null,
            "object_fit": null,
            "object_position": null,
            "order": null,
            "overflow": null,
            "overflow_x": null,
            "overflow_y": null,
            "padding": null,
            "right": null,
            "top": null,
            "visibility": null,
            "width": null
          }
        },
        "47a961cab55f4959ad9f9c7f054ea4fc": {
          "model_module": "@jupyter-widgets/controls",
          "model_name": "DescriptionStyleModel",
          "model_module_version": "1.5.0",
          "state": {
            "_model_module": "@jupyter-widgets/controls",
            "_model_module_version": "1.5.0",
            "_model_name": "DescriptionStyleModel",
            "_view_count": null,
            "_view_module": "@jupyter-widgets/base",
            "_view_module_version": "1.2.0",
            "_view_name": "StyleView",
            "description_width": ""
          }
        },
        "7570e9a788c646ea813388b08d4b33a7": {
          "model_module": "@jupyter-widgets/controls",
          "model_name": "HBoxModel",
          "model_module_version": "1.5.0",
          "state": {
            "_dom_classes": [],
            "_model_module": "@jupyter-widgets/controls",
            "_model_module_version": "1.5.0",
            "_model_name": "HBoxModel",
            "_view_count": null,
            "_view_module": "@jupyter-widgets/controls",
            "_view_module_version": "1.5.0",
            "_view_name": "HBoxView",
            "box_style": "",
            "children": [
              "IPY_MODEL_45a35b3415a1462aa69263f9fc3bccd2",
              "IPY_MODEL_7cf7c1612f9d458298bd95d8061122f8",
              "IPY_MODEL_20e11e1523314c7da6b61ccd7ba41046"
            ],
            "layout": "IPY_MODEL_d3056735f62b4cda81a505234a1f4bdd"
          }
        },
        "45a35b3415a1462aa69263f9fc3bccd2": {
          "model_module": "@jupyter-widgets/controls",
          "model_name": "HTMLModel",
          "model_module_version": "1.5.0",
          "state": {
            "_dom_classes": [],
            "_model_module": "@jupyter-widgets/controls",
            "_model_module_version": "1.5.0",
            "_model_name": "HTMLModel",
            "_view_count": null,
            "_view_module": "@jupyter-widgets/controls",
            "_view_module_version": "1.5.0",
            "_view_name": "HTMLView",
            "description": "",
            "description_tooltip": null,
            "layout": "IPY_MODEL_ea1a9dfd3e8c4f4597f71684980e8222",
            "placeholder": "​",
            "style": "IPY_MODEL_bcd9f0bb94e04257b8cef0e17f1d7154",
            "value": "pytorch_model.bin: 100%"
          }
        },
        "7cf7c1612f9d458298bd95d8061122f8": {
          "model_module": "@jupyter-widgets/controls",
          "model_name": "FloatProgressModel",
          "model_module_version": "1.5.0",
          "state": {
            "_dom_classes": [],
            "_model_module": "@jupyter-widgets/controls",
            "_model_module_version": "1.5.0",
            "_model_name": "FloatProgressModel",
            "_view_count": null,
            "_view_module": "@jupyter-widgets/controls",
            "_view_module_version": "1.5.0",
            "_view_name": "ProgressView",
            "bar_style": "success",
            "description": "",
            "description_tooltip": null,
            "layout": "IPY_MODEL_d2dd9c09fb844f2081dea58b4ceaf773",
            "max": 1222317369,
            "min": 0,
            "orientation": "horizontal",
            "style": "IPY_MODEL_9d99bbbc6630495f8b4c3c6291501b78",
            "value": 1222317369
          }
        },
        "20e11e1523314c7da6b61ccd7ba41046": {
          "model_module": "@jupyter-widgets/controls",
          "model_name": "HTMLModel",
          "model_module_version": "1.5.0",
          "state": {
            "_dom_classes": [],
            "_model_module": "@jupyter-widgets/controls",
            "_model_module_version": "1.5.0",
            "_model_name": "HTMLModel",
            "_view_count": null,
            "_view_module": "@jupyter-widgets/controls",
            "_view_module_version": "1.5.0",
            "_view_name": "HTMLView",
            "description": "",
            "description_tooltip": null,
            "layout": "IPY_MODEL_39fae5da923941cfa8e00725c302cb0f",
            "placeholder": "​",
            "style": "IPY_MODEL_f69527d80f544c9da6c9c0d259fd1443",
            "value": " 1.22G/1.22G [00:08&lt;00:00, 245MB/s]"
          }
        },
        "d3056735f62b4cda81a505234a1f4bdd": {
          "model_module": "@jupyter-widgets/base",
          "model_name": "LayoutModel",
          "model_module_version": "1.2.0",
          "state": {
            "_model_module": "@jupyter-widgets/base",
            "_model_module_version": "1.2.0",
            "_model_name": "LayoutModel",
            "_view_count": null,
            "_view_module": "@jupyter-widgets/base",
            "_view_module_version": "1.2.0",
            "_view_name": "LayoutView",
            "align_content": null,
            "align_items": null,
            "align_self": null,
            "border": null,
            "bottom": null,
            "display": null,
            "flex": null,
            "flex_flow": null,
            "grid_area": null,
            "grid_auto_columns": null,
            "grid_auto_flow": null,
            "grid_auto_rows": null,
            "grid_column": null,
            "grid_gap": null,
            "grid_row": null,
            "grid_template_areas": null,
            "grid_template_columns": null,
            "grid_template_rows": null,
            "height": null,
            "justify_content": null,
            "justify_items": null,
            "left": null,
            "margin": null,
            "max_height": null,
            "max_width": null,
            "min_height": null,
            "min_width": null,
            "object_fit": null,
            "object_position": null,
            "order": null,
            "overflow": null,
            "overflow_x": null,
            "overflow_y": null,
            "padding": null,
            "right": null,
            "top": null,
            "visibility": null,
            "width": null
          }
        },
        "ea1a9dfd3e8c4f4597f71684980e8222": {
          "model_module": "@jupyter-widgets/base",
          "model_name": "LayoutModel",
          "model_module_version": "1.2.0",
          "state": {
            "_model_module": "@jupyter-widgets/base",
            "_model_module_version": "1.2.0",
            "_model_name": "LayoutModel",
            "_view_count": null,
            "_view_module": "@jupyter-widgets/base",
            "_view_module_version": "1.2.0",
            "_view_name": "LayoutView",
            "align_content": null,
            "align_items": null,
            "align_self": null,
            "border": null,
            "bottom": null,
            "display": null,
            "flex": null,
            "flex_flow": null,
            "grid_area": null,
            "grid_auto_columns": null,
            "grid_auto_flow": null,
            "grid_auto_rows": null,
            "grid_column": null,
            "grid_gap": null,
            "grid_row": null,
            "grid_template_areas": null,
            "grid_template_columns": null,
            "grid_template_rows": null,
            "height": null,
            "justify_content": null,
            "justify_items": null,
            "left": null,
            "margin": null,
            "max_height": null,
            "max_width": null,
            "min_height": null,
            "min_width": null,
            "object_fit": null,
            "object_position": null,
            "order": null,
            "overflow": null,
            "overflow_x": null,
            "overflow_y": null,
            "padding": null,
            "right": null,
            "top": null,
            "visibility": null,
            "width": null
          }
        },
        "bcd9f0bb94e04257b8cef0e17f1d7154": {
          "model_module": "@jupyter-widgets/controls",
          "model_name": "DescriptionStyleModel",
          "model_module_version": "1.5.0",
          "state": {
            "_model_module": "@jupyter-widgets/controls",
            "_model_module_version": "1.5.0",
            "_model_name": "DescriptionStyleModel",
            "_view_count": null,
            "_view_module": "@jupyter-widgets/base",
            "_view_module_version": "1.2.0",
            "_view_name": "StyleView",
            "description_width": ""
          }
        },
        "d2dd9c09fb844f2081dea58b4ceaf773": {
          "model_module": "@jupyter-widgets/base",
          "model_name": "LayoutModel",
          "model_module_version": "1.2.0",
          "state": {
            "_model_module": "@jupyter-widgets/base",
            "_model_module_version": "1.2.0",
            "_model_name": "LayoutModel",
            "_view_count": null,
            "_view_module": "@jupyter-widgets/base",
            "_view_module_version": "1.2.0",
            "_view_name": "LayoutView",
            "align_content": null,
            "align_items": null,
            "align_self": null,
            "border": null,
            "bottom": null,
            "display": null,
            "flex": null,
            "flex_flow": null,
            "grid_area": null,
            "grid_auto_columns": null,
            "grid_auto_flow": null,
            "grid_auto_rows": null,
            "grid_column": null,
            "grid_gap": null,
            "grid_row": null,
            "grid_template_areas": null,
            "grid_template_columns": null,
            "grid_template_rows": null,
            "height": null,
            "justify_content": null,
            "justify_items": null,
            "left": null,
            "margin": null,
            "max_height": null,
            "max_width": null,
            "min_height": null,
            "min_width": null,
            "object_fit": null,
            "object_position": null,
            "order": null,
            "overflow": null,
            "overflow_x": null,
            "overflow_y": null,
            "padding": null,
            "right": null,
            "top": null,
            "visibility": null,
            "width": null
          }
        },
        "9d99bbbc6630495f8b4c3c6291501b78": {
          "model_module": "@jupyter-widgets/controls",
          "model_name": "ProgressStyleModel",
          "model_module_version": "1.5.0",
          "state": {
            "_model_module": "@jupyter-widgets/controls",
            "_model_module_version": "1.5.0",
            "_model_name": "ProgressStyleModel",
            "_view_count": null,
            "_view_module": "@jupyter-widgets/base",
            "_view_module_version": "1.2.0",
            "_view_name": "StyleView",
            "bar_color": null,
            "description_width": ""
          }
        },
        "39fae5da923941cfa8e00725c302cb0f": {
          "model_module": "@jupyter-widgets/base",
          "model_name": "LayoutModel",
          "model_module_version": "1.2.0",
          "state": {
            "_model_module": "@jupyter-widgets/base",
            "_model_module_version": "1.2.0",
            "_model_name": "LayoutModel",
            "_view_count": null,
            "_view_module": "@jupyter-widgets/base",
            "_view_module_version": "1.2.0",
            "_view_name": "LayoutView",
            "align_content": null,
            "align_items": null,
            "align_self": null,
            "border": null,
            "bottom": null,
            "display": null,
            "flex": null,
            "flex_flow": null,
            "grid_area": null,
            "grid_auto_columns": null,
            "grid_auto_flow": null,
            "grid_auto_rows": null,
            "grid_column": null,
            "grid_gap": null,
            "grid_row": null,
            "grid_template_areas": null,
            "grid_template_columns": null,
            "grid_template_rows": null,
            "height": null,
            "justify_content": null,
            "justify_items": null,
            "left": null,
            "margin": null,
            "max_height": null,
            "max_width": null,
            "min_height": null,
            "min_width": null,
            "object_fit": null,
            "object_position": null,
            "order": null,
            "overflow": null,
            "overflow_x": null,
            "overflow_y": null,
            "padding": null,
            "right": null,
            "top": null,
            "visibility": null,
            "width": null
          }
        },
        "f69527d80f544c9da6c9c0d259fd1443": {
          "model_module": "@jupyter-widgets/controls",
          "model_name": "DescriptionStyleModel",
          "model_module_version": "1.5.0",
          "state": {
            "_model_module": "@jupyter-widgets/controls",
            "_model_module_version": "1.5.0",
            "_model_name": "DescriptionStyleModel",
            "_view_count": null,
            "_view_module": "@jupyter-widgets/base",
            "_view_module_version": "1.2.0",
            "_view_name": "StyleView",
            "description_width": ""
          }
        },
        "79467e6699cd470d8df65454ce052201": {
          "model_module": "@jupyter-widgets/controls",
          "model_name": "HBoxModel",
          "model_module_version": "1.5.0",
          "state": {
            "_dom_classes": [],
            "_model_module": "@jupyter-widgets/controls",
            "_model_module_version": "1.5.0",
            "_model_name": "HBoxModel",
            "_view_count": null,
            "_view_module": "@jupyter-widgets/controls",
            "_view_module_version": "1.5.0",
            "_view_name": "HBoxView",
            "box_style": "",
            "children": [
              "IPY_MODEL_5389aa827344479d8ddf02ee8e0c78cd",
              "IPY_MODEL_cb8028587544436286b794a88ac729a0",
              "IPY_MODEL_0825c34a55d045cd9c0512bdbaff1979"
            ],
            "layout": "IPY_MODEL_e2129b83b95d4148a5729c9d4856d208"
          }
        },
        "5389aa827344479d8ddf02ee8e0c78cd": {
          "model_module": "@jupyter-widgets/controls",
          "model_name": "HTMLModel",
          "model_module_version": "1.5.0",
          "state": {
            "_dom_classes": [],
            "_model_module": "@jupyter-widgets/controls",
            "_model_module_version": "1.5.0",
            "_model_name": "HTMLModel",
            "_view_count": null,
            "_view_module": "@jupyter-widgets/controls",
            "_view_module_version": "1.5.0",
            "_view_name": "HTMLView",
            "description": "",
            "description_tooltip": null,
            "layout": "IPY_MODEL_dd5f46c6206f420d9c22efe83b1d9968",
            "placeholder": "​",
            "style": "IPY_MODEL_92e09d743ca34ed696708404075b5dc7",
            "value": "tokenizer_config.json: 100%"
          }
        },
        "cb8028587544436286b794a88ac729a0": {
          "model_module": "@jupyter-widgets/controls",
          "model_name": "FloatProgressModel",
          "model_module_version": "1.5.0",
          "state": {
            "_dom_classes": [],
            "_model_module": "@jupyter-widgets/controls",
            "_model_module_version": "1.5.0",
            "_model_name": "FloatProgressModel",
            "_view_count": null,
            "_view_module": "@jupyter-widgets/controls",
            "_view_module_version": "1.5.0",
            "_view_name": "ProgressView",
            "bar_style": "success",
            "description": "",
            "description_tooltip": null,
            "layout": "IPY_MODEL_2ad59bef21074e05a1408658f0e1ee4b",
            "max": 26,
            "min": 0,
            "orientation": "horizontal",
            "style": "IPY_MODEL_92ef9ec33f4f440b8f83ca820981c706",
            "value": 26
          }
        },
        "0825c34a55d045cd9c0512bdbaff1979": {
          "model_module": "@jupyter-widgets/controls",
          "model_name": "HTMLModel",
          "model_module_version": "1.5.0",
          "state": {
            "_dom_classes": [],
            "_model_module": "@jupyter-widgets/controls",
            "_model_module_version": "1.5.0",
            "_model_name": "HTMLModel",
            "_view_count": null,
            "_view_module": "@jupyter-widgets/controls",
            "_view_module_version": "1.5.0",
            "_view_name": "HTMLView",
            "description": "",
            "description_tooltip": null,
            "layout": "IPY_MODEL_d21b243edac1456c8567c16692720555",
            "placeholder": "​",
            "style": "IPY_MODEL_3d236e3b6efe437289aabd692df6328a",
            "value": " 26.0/26.0 [00:00&lt;00:00, 889B/s]"
          }
        },
        "e2129b83b95d4148a5729c9d4856d208": {
          "model_module": "@jupyter-widgets/base",
          "model_name": "LayoutModel",
          "model_module_version": "1.2.0",
          "state": {
            "_model_module": "@jupyter-widgets/base",
            "_model_module_version": "1.2.0",
            "_model_name": "LayoutModel",
            "_view_count": null,
            "_view_module": "@jupyter-widgets/base",
            "_view_module_version": "1.2.0",
            "_view_name": "LayoutView",
            "align_content": null,
            "align_items": null,
            "align_self": null,
            "border": null,
            "bottom": null,
            "display": null,
            "flex": null,
            "flex_flow": null,
            "grid_area": null,
            "grid_auto_columns": null,
            "grid_auto_flow": null,
            "grid_auto_rows": null,
            "grid_column": null,
            "grid_gap": null,
            "grid_row": null,
            "grid_template_areas": null,
            "grid_template_columns": null,
            "grid_template_rows": null,
            "height": null,
            "justify_content": null,
            "justify_items": null,
            "left": null,
            "margin": null,
            "max_height": null,
            "max_width": null,
            "min_height": null,
            "min_width": null,
            "object_fit": null,
            "object_position": null,
            "order": null,
            "overflow": null,
            "overflow_x": null,
            "overflow_y": null,
            "padding": null,
            "right": null,
            "top": null,
            "visibility": null,
            "width": null
          }
        },
        "dd5f46c6206f420d9c22efe83b1d9968": {
          "model_module": "@jupyter-widgets/base",
          "model_name": "LayoutModel",
          "model_module_version": "1.2.0",
          "state": {
            "_model_module": "@jupyter-widgets/base",
            "_model_module_version": "1.2.0",
            "_model_name": "LayoutModel",
            "_view_count": null,
            "_view_module": "@jupyter-widgets/base",
            "_view_module_version": "1.2.0",
            "_view_name": "LayoutView",
            "align_content": null,
            "align_items": null,
            "align_self": null,
            "border": null,
            "bottom": null,
            "display": null,
            "flex": null,
            "flex_flow": null,
            "grid_area": null,
            "grid_auto_columns": null,
            "grid_auto_flow": null,
            "grid_auto_rows": null,
            "grid_column": null,
            "grid_gap": null,
            "grid_row": null,
            "grid_template_areas": null,
            "grid_template_columns": null,
            "grid_template_rows": null,
            "height": null,
            "justify_content": null,
            "justify_items": null,
            "left": null,
            "margin": null,
            "max_height": null,
            "max_width": null,
            "min_height": null,
            "min_width": null,
            "object_fit": null,
            "object_position": null,
            "order": null,
            "overflow": null,
            "overflow_x": null,
            "overflow_y": null,
            "padding": null,
            "right": null,
            "top": null,
            "visibility": null,
            "width": null
          }
        },
        "92e09d743ca34ed696708404075b5dc7": {
          "model_module": "@jupyter-widgets/controls",
          "model_name": "DescriptionStyleModel",
          "model_module_version": "1.5.0",
          "state": {
            "_model_module": "@jupyter-widgets/controls",
            "_model_module_version": "1.5.0",
            "_model_name": "DescriptionStyleModel",
            "_view_count": null,
            "_view_module": "@jupyter-widgets/base",
            "_view_module_version": "1.2.0",
            "_view_name": "StyleView",
            "description_width": ""
          }
        },
        "2ad59bef21074e05a1408658f0e1ee4b": {
          "model_module": "@jupyter-widgets/base",
          "model_name": "LayoutModel",
          "model_module_version": "1.2.0",
          "state": {
            "_model_module": "@jupyter-widgets/base",
            "_model_module_version": "1.2.0",
            "_model_name": "LayoutModel",
            "_view_count": null,
            "_view_module": "@jupyter-widgets/base",
            "_view_module_version": "1.2.0",
            "_view_name": "LayoutView",
            "align_content": null,
            "align_items": null,
            "align_self": null,
            "border": null,
            "bottom": null,
            "display": null,
            "flex": null,
            "flex_flow": null,
            "grid_area": null,
            "grid_auto_columns": null,
            "grid_auto_flow": null,
            "grid_auto_rows": null,
            "grid_column": null,
            "grid_gap": null,
            "grid_row": null,
            "grid_template_areas": null,
            "grid_template_columns": null,
            "grid_template_rows": null,
            "height": null,
            "justify_content": null,
            "justify_items": null,
            "left": null,
            "margin": null,
            "max_height": null,
            "max_width": null,
            "min_height": null,
            "min_width": null,
            "object_fit": null,
            "object_position": null,
            "order": null,
            "overflow": null,
            "overflow_x": null,
            "overflow_y": null,
            "padding": null,
            "right": null,
            "top": null,
            "visibility": null,
            "width": null
          }
        },
        "92ef9ec33f4f440b8f83ca820981c706": {
          "model_module": "@jupyter-widgets/controls",
          "model_name": "ProgressStyleModel",
          "model_module_version": "1.5.0",
          "state": {
            "_model_module": "@jupyter-widgets/controls",
            "_model_module_version": "1.5.0",
            "_model_name": "ProgressStyleModel",
            "_view_count": null,
            "_view_module": "@jupyter-widgets/base",
            "_view_module_version": "1.2.0",
            "_view_name": "StyleView",
            "bar_color": null,
            "description_width": ""
          }
        },
        "d21b243edac1456c8567c16692720555": {
          "model_module": "@jupyter-widgets/base",
          "model_name": "LayoutModel",
          "model_module_version": "1.2.0",
          "state": {
            "_model_module": "@jupyter-widgets/base",
            "_model_module_version": "1.2.0",
            "_model_name": "LayoutModel",
            "_view_count": null,
            "_view_module": "@jupyter-widgets/base",
            "_view_module_version": "1.2.0",
            "_view_name": "LayoutView",
            "align_content": null,
            "align_items": null,
            "align_self": null,
            "border": null,
            "bottom": null,
            "display": null,
            "flex": null,
            "flex_flow": null,
            "grid_area": null,
            "grid_auto_columns": null,
            "grid_auto_flow": null,
            "grid_auto_rows": null,
            "grid_column": null,
            "grid_gap": null,
            "grid_row": null,
            "grid_template_areas": null,
            "grid_template_columns": null,
            "grid_template_rows": null,
            "height": null,
            "justify_content": null,
            "justify_items": null,
            "left": null,
            "margin": null,
            "max_height": null,
            "max_width": null,
            "min_height": null,
            "min_width": null,
            "object_fit": null,
            "object_position": null,
            "order": null,
            "overflow": null,
            "overflow_x": null,
            "overflow_y": null,
            "padding": null,
            "right": null,
            "top": null,
            "visibility": null,
            "width": null
          }
        },
        "3d236e3b6efe437289aabd692df6328a": {
          "model_module": "@jupyter-widgets/controls",
          "model_name": "DescriptionStyleModel",
          "model_module_version": "1.5.0",
          "state": {
            "_model_module": "@jupyter-widgets/controls",
            "_model_module_version": "1.5.0",
            "_model_name": "DescriptionStyleModel",
            "_view_count": null,
            "_view_module": "@jupyter-widgets/base",
            "_view_module_version": "1.2.0",
            "_view_name": "StyleView",
            "description_width": ""
          }
        },
        "af16f2e645974b8a9f326e8540b3067e": {
          "model_module": "@jupyter-widgets/controls",
          "model_name": "HBoxModel",
          "model_module_version": "1.5.0",
          "state": {
            "_dom_classes": [],
            "_model_module": "@jupyter-widgets/controls",
            "_model_module_version": "1.5.0",
            "_model_name": "HBoxModel",
            "_view_count": null,
            "_view_module": "@jupyter-widgets/controls",
            "_view_module_version": "1.5.0",
            "_view_name": "HBoxView",
            "box_style": "",
            "children": [
              "IPY_MODEL_8d07432735554bb9a1d9dfbfc59527e4",
              "IPY_MODEL_b102d6b20ce643848ce2e5f2d3294d0e",
              "IPY_MODEL_60a3e66a4ac44d26b56953ada2da56f1"
            ],
            "layout": "IPY_MODEL_70f9a684530a49cfacdf39ba7b6c21f8"
          }
        },
        "8d07432735554bb9a1d9dfbfc59527e4": {
          "model_module": "@jupyter-widgets/controls",
          "model_name": "HTMLModel",
          "model_module_version": "1.5.0",
          "state": {
            "_dom_classes": [],
            "_model_module": "@jupyter-widgets/controls",
            "_model_module_version": "1.5.0",
            "_model_name": "HTMLModel",
            "_view_count": null,
            "_view_module": "@jupyter-widgets/controls",
            "_view_module_version": "1.5.0",
            "_view_name": "HTMLView",
            "description": "",
            "description_tooltip": null,
            "layout": "IPY_MODEL_3c8d73aefa19493f95392371e0a2b4c4",
            "placeholder": "​",
            "style": "IPY_MODEL_4080291d59944a7b94df8adc9cdfce06",
            "value": "vocab.json: 100%"
          }
        },
        "b102d6b20ce643848ce2e5f2d3294d0e": {
          "model_module": "@jupyter-widgets/controls",
          "model_name": "FloatProgressModel",
          "model_module_version": "1.5.0",
          "state": {
            "_dom_classes": [],
            "_model_module": "@jupyter-widgets/controls",
            "_model_module_version": "1.5.0",
            "_model_name": "FloatProgressModel",
            "_view_count": null,
            "_view_module": "@jupyter-widgets/controls",
            "_view_module_version": "1.5.0",
            "_view_name": "ProgressView",
            "bar_style": "success",
            "description": "",
            "description_tooltip": null,
            "layout": "IPY_MODEL_86e9c42a85e247478bb723c04777fec6",
            "max": 898822,
            "min": 0,
            "orientation": "horizontal",
            "style": "IPY_MODEL_e28892141a824343b5e4e48808d5e204",
            "value": 898822
          }
        },
        "60a3e66a4ac44d26b56953ada2da56f1": {
          "model_module": "@jupyter-widgets/controls",
          "model_name": "HTMLModel",
          "model_module_version": "1.5.0",
          "state": {
            "_dom_classes": [],
            "_model_module": "@jupyter-widgets/controls",
            "_model_module_version": "1.5.0",
            "_model_name": "HTMLModel",
            "_view_count": null,
            "_view_module": "@jupyter-widgets/controls",
            "_view_module_version": "1.5.0",
            "_view_name": "HTMLView",
            "description": "",
            "description_tooltip": null,
            "layout": "IPY_MODEL_90105d810e544b28b78c9c632a6490c7",
            "placeholder": "​",
            "style": "IPY_MODEL_2a5338e2bc7f489b8af13599e2089429",
            "value": " 899k/899k [00:00&lt;00:00, 2.74MB/s]"
          }
        },
        "70f9a684530a49cfacdf39ba7b6c21f8": {
          "model_module": "@jupyter-widgets/base",
          "model_name": "LayoutModel",
          "model_module_version": "1.2.0",
          "state": {
            "_model_module": "@jupyter-widgets/base",
            "_model_module_version": "1.2.0",
            "_model_name": "LayoutModel",
            "_view_count": null,
            "_view_module": "@jupyter-widgets/base",
            "_view_module_version": "1.2.0",
            "_view_name": "LayoutView",
            "align_content": null,
            "align_items": null,
            "align_self": null,
            "border": null,
            "bottom": null,
            "display": null,
            "flex": null,
            "flex_flow": null,
            "grid_area": null,
            "grid_auto_columns": null,
            "grid_auto_flow": null,
            "grid_auto_rows": null,
            "grid_column": null,
            "grid_gap": null,
            "grid_row": null,
            "grid_template_areas": null,
            "grid_template_columns": null,
            "grid_template_rows": null,
            "height": null,
            "justify_content": null,
            "justify_items": null,
            "left": null,
            "margin": null,
            "max_height": null,
            "max_width": null,
            "min_height": null,
            "min_width": null,
            "object_fit": null,
            "object_position": null,
            "order": null,
            "overflow": null,
            "overflow_x": null,
            "overflow_y": null,
            "padding": null,
            "right": null,
            "top": null,
            "visibility": null,
            "width": null
          }
        },
        "3c8d73aefa19493f95392371e0a2b4c4": {
          "model_module": "@jupyter-widgets/base",
          "model_name": "LayoutModel",
          "model_module_version": "1.2.0",
          "state": {
            "_model_module": "@jupyter-widgets/base",
            "_model_module_version": "1.2.0",
            "_model_name": "LayoutModel",
            "_view_count": null,
            "_view_module": "@jupyter-widgets/base",
            "_view_module_version": "1.2.0",
            "_view_name": "LayoutView",
            "align_content": null,
            "align_items": null,
            "align_self": null,
            "border": null,
            "bottom": null,
            "display": null,
            "flex": null,
            "flex_flow": null,
            "grid_area": null,
            "grid_auto_columns": null,
            "grid_auto_flow": null,
            "grid_auto_rows": null,
            "grid_column": null,
            "grid_gap": null,
            "grid_row": null,
            "grid_template_areas": null,
            "grid_template_columns": null,
            "grid_template_rows": null,
            "height": null,
            "justify_content": null,
            "justify_items": null,
            "left": null,
            "margin": null,
            "max_height": null,
            "max_width": null,
            "min_height": null,
            "min_width": null,
            "object_fit": null,
            "object_position": null,
            "order": null,
            "overflow": null,
            "overflow_x": null,
            "overflow_y": null,
            "padding": null,
            "right": null,
            "top": null,
            "visibility": null,
            "width": null
          }
        },
        "4080291d59944a7b94df8adc9cdfce06": {
          "model_module": "@jupyter-widgets/controls",
          "model_name": "DescriptionStyleModel",
          "model_module_version": "1.5.0",
          "state": {
            "_model_module": "@jupyter-widgets/controls",
            "_model_module_version": "1.5.0",
            "_model_name": "DescriptionStyleModel",
            "_view_count": null,
            "_view_module": "@jupyter-widgets/base",
            "_view_module_version": "1.2.0",
            "_view_name": "StyleView",
            "description_width": ""
          }
        },
        "86e9c42a85e247478bb723c04777fec6": {
          "model_module": "@jupyter-widgets/base",
          "model_name": "LayoutModel",
          "model_module_version": "1.2.0",
          "state": {
            "_model_module": "@jupyter-widgets/base",
            "_model_module_version": "1.2.0",
            "_model_name": "LayoutModel",
            "_view_count": null,
            "_view_module": "@jupyter-widgets/base",
            "_view_module_version": "1.2.0",
            "_view_name": "LayoutView",
            "align_content": null,
            "align_items": null,
            "align_self": null,
            "border": null,
            "bottom": null,
            "display": null,
            "flex": null,
            "flex_flow": null,
            "grid_area": null,
            "grid_auto_columns": null,
            "grid_auto_flow": null,
            "grid_auto_rows": null,
            "grid_column": null,
            "grid_gap": null,
            "grid_row": null,
            "grid_template_areas": null,
            "grid_template_columns": null,
            "grid_template_rows": null,
            "height": null,
            "justify_content": null,
            "justify_items": null,
            "left": null,
            "margin": null,
            "max_height": null,
            "max_width": null,
            "min_height": null,
            "min_width": null,
            "object_fit": null,
            "object_position": null,
            "order": null,
            "overflow": null,
            "overflow_x": null,
            "overflow_y": null,
            "padding": null,
            "right": null,
            "top": null,
            "visibility": null,
            "width": null
          }
        },
        "e28892141a824343b5e4e48808d5e204": {
          "model_module": "@jupyter-widgets/controls",
          "model_name": "ProgressStyleModel",
          "model_module_version": "1.5.0",
          "state": {
            "_model_module": "@jupyter-widgets/controls",
            "_model_module_version": "1.5.0",
            "_model_name": "ProgressStyleModel",
            "_view_count": null,
            "_view_module": "@jupyter-widgets/base",
            "_view_module_version": "1.2.0",
            "_view_name": "StyleView",
            "bar_color": null,
            "description_width": ""
          }
        },
        "90105d810e544b28b78c9c632a6490c7": {
          "model_module": "@jupyter-widgets/base",
          "model_name": "LayoutModel",
          "model_module_version": "1.2.0",
          "state": {
            "_model_module": "@jupyter-widgets/base",
            "_model_module_version": "1.2.0",
            "_model_name": "LayoutModel",
            "_view_count": null,
            "_view_module": "@jupyter-widgets/base",
            "_view_module_version": "1.2.0",
            "_view_name": "LayoutView",
            "align_content": null,
            "align_items": null,
            "align_self": null,
            "border": null,
            "bottom": null,
            "display": null,
            "flex": null,
            "flex_flow": null,
            "grid_area": null,
            "grid_auto_columns": null,
            "grid_auto_flow": null,
            "grid_auto_rows": null,
            "grid_column": null,
            "grid_gap": null,
            "grid_row": null,
            "grid_template_areas": null,
            "grid_template_columns": null,
            "grid_template_rows": null,
            "height": null,
            "justify_content": null,
            "justify_items": null,
            "left": null,
            "margin": null,
            "max_height": null,
            "max_width": null,
            "min_height": null,
            "min_width": null,
            "object_fit": null,
            "object_position": null,
            "order": null,
            "overflow": null,
            "overflow_x": null,
            "overflow_y": null,
            "padding": null,
            "right": null,
            "top": null,
            "visibility": null,
            "width": null
          }
        },
        "2a5338e2bc7f489b8af13599e2089429": {
          "model_module": "@jupyter-widgets/controls",
          "model_name": "DescriptionStyleModel",
          "model_module_version": "1.5.0",
          "state": {
            "_model_module": "@jupyter-widgets/controls",
            "_model_module_version": "1.5.0",
            "_model_name": "DescriptionStyleModel",
            "_view_count": null,
            "_view_module": "@jupyter-widgets/base",
            "_view_module_version": "1.2.0",
            "_view_name": "StyleView",
            "description_width": ""
          }
        },
        "afce4c169e504e97a5140e067a04a756": {
          "model_module": "@jupyter-widgets/controls",
          "model_name": "HBoxModel",
          "model_module_version": "1.5.0",
          "state": {
            "_dom_classes": [],
            "_model_module": "@jupyter-widgets/controls",
            "_model_module_version": "1.5.0",
            "_model_name": "HBoxModel",
            "_view_count": null,
            "_view_module": "@jupyter-widgets/controls",
            "_view_module_version": "1.5.0",
            "_view_name": "HBoxView",
            "box_style": "",
            "children": [
              "IPY_MODEL_ca65940d8dc649b1a10f822a8dd341fe",
              "IPY_MODEL_007aceaaaf284491a497396c74ac8b33",
              "IPY_MODEL_0f4aedc70aaa434e874b21f647a068d4"
            ],
            "layout": "IPY_MODEL_b4b8377272cd4f2b9e4f8e13bfaa5068"
          }
        },
        "ca65940d8dc649b1a10f822a8dd341fe": {
          "model_module": "@jupyter-widgets/controls",
          "model_name": "HTMLModel",
          "model_module_version": "1.5.0",
          "state": {
            "_dom_classes": [],
            "_model_module": "@jupyter-widgets/controls",
            "_model_module_version": "1.5.0",
            "_model_name": "HTMLModel",
            "_view_count": null,
            "_view_module": "@jupyter-widgets/controls",
            "_view_module_version": "1.5.0",
            "_view_name": "HTMLView",
            "description": "",
            "description_tooltip": null,
            "layout": "IPY_MODEL_f1f9de01d6b542199ba907d96c70eb3a",
            "placeholder": "​",
            "style": "IPY_MODEL_1982f1bd5b8b449c9ac5f5dedd546a7a",
            "value": "merges.txt: 100%"
          }
        },
        "007aceaaaf284491a497396c74ac8b33": {
          "model_module": "@jupyter-widgets/controls",
          "model_name": "FloatProgressModel",
          "model_module_version": "1.5.0",
          "state": {
            "_dom_classes": [],
            "_model_module": "@jupyter-widgets/controls",
            "_model_module_version": "1.5.0",
            "_model_name": "FloatProgressModel",
            "_view_count": null,
            "_view_module": "@jupyter-widgets/controls",
            "_view_module_version": "1.5.0",
            "_view_name": "ProgressView",
            "bar_style": "success",
            "description": "",
            "description_tooltip": null,
            "layout": "IPY_MODEL_0458ab7384874a1994b6d95d59427976",
            "max": 456318,
            "min": 0,
            "orientation": "horizontal",
            "style": "IPY_MODEL_211c2abfcdc94ef8aa0854d6551b40ad",
            "value": 456318
          }
        },
        "0f4aedc70aaa434e874b21f647a068d4": {
          "model_module": "@jupyter-widgets/controls",
          "model_name": "HTMLModel",
          "model_module_version": "1.5.0",
          "state": {
            "_dom_classes": [],
            "_model_module": "@jupyter-widgets/controls",
            "_model_module_version": "1.5.0",
            "_model_name": "HTMLModel",
            "_view_count": null,
            "_view_module": "@jupyter-widgets/controls",
            "_view_module_version": "1.5.0",
            "_view_name": "HTMLView",
            "description": "",
            "description_tooltip": null,
            "layout": "IPY_MODEL_4ad9f5b8b4b543ae8f2b0ee4dfb49767",
            "placeholder": "​",
            "style": "IPY_MODEL_82c7e89015bc4bf5a248e72b75569555",
            "value": " 456k/456k [00:00&lt;00:00, 1.69MB/s]"
          }
        },
        "b4b8377272cd4f2b9e4f8e13bfaa5068": {
          "model_module": "@jupyter-widgets/base",
          "model_name": "LayoutModel",
          "model_module_version": "1.2.0",
          "state": {
            "_model_module": "@jupyter-widgets/base",
            "_model_module_version": "1.2.0",
            "_model_name": "LayoutModel",
            "_view_count": null,
            "_view_module": "@jupyter-widgets/base",
            "_view_module_version": "1.2.0",
            "_view_name": "LayoutView",
            "align_content": null,
            "align_items": null,
            "align_self": null,
            "border": null,
            "bottom": null,
            "display": null,
            "flex": null,
            "flex_flow": null,
            "grid_area": null,
            "grid_auto_columns": null,
            "grid_auto_flow": null,
            "grid_auto_rows": null,
            "grid_column": null,
            "grid_gap": null,
            "grid_row": null,
            "grid_template_areas": null,
            "grid_template_columns": null,
            "grid_template_rows": null,
            "height": null,
            "justify_content": null,
            "justify_items": null,
            "left": null,
            "margin": null,
            "max_height": null,
            "max_width": null,
            "min_height": null,
            "min_width": null,
            "object_fit": null,
            "object_position": null,
            "order": null,
            "overflow": null,
            "overflow_x": null,
            "overflow_y": null,
            "padding": null,
            "right": null,
            "top": null,
            "visibility": null,
            "width": null
          }
        },
        "f1f9de01d6b542199ba907d96c70eb3a": {
          "model_module": "@jupyter-widgets/base",
          "model_name": "LayoutModel",
          "model_module_version": "1.2.0",
          "state": {
            "_model_module": "@jupyter-widgets/base",
            "_model_module_version": "1.2.0",
            "_model_name": "LayoutModel",
            "_view_count": null,
            "_view_module": "@jupyter-widgets/base",
            "_view_module_version": "1.2.0",
            "_view_name": "LayoutView",
            "align_content": null,
            "align_items": null,
            "align_self": null,
            "border": null,
            "bottom": null,
            "display": null,
            "flex": null,
            "flex_flow": null,
            "grid_area": null,
            "grid_auto_columns": null,
            "grid_auto_flow": null,
            "grid_auto_rows": null,
            "grid_column": null,
            "grid_gap": null,
            "grid_row": null,
            "grid_template_areas": null,
            "grid_template_columns": null,
            "grid_template_rows": null,
            "height": null,
            "justify_content": null,
            "justify_items": null,
            "left": null,
            "margin": null,
            "max_height": null,
            "max_width": null,
            "min_height": null,
            "min_width": null,
            "object_fit": null,
            "object_position": null,
            "order": null,
            "overflow": null,
            "overflow_x": null,
            "overflow_y": null,
            "padding": null,
            "right": null,
            "top": null,
            "visibility": null,
            "width": null
          }
        },
        "1982f1bd5b8b449c9ac5f5dedd546a7a": {
          "model_module": "@jupyter-widgets/controls",
          "model_name": "DescriptionStyleModel",
          "model_module_version": "1.5.0",
          "state": {
            "_model_module": "@jupyter-widgets/controls",
            "_model_module_version": "1.5.0",
            "_model_name": "DescriptionStyleModel",
            "_view_count": null,
            "_view_module": "@jupyter-widgets/base",
            "_view_module_version": "1.2.0",
            "_view_name": "StyleView",
            "description_width": ""
          }
        },
        "0458ab7384874a1994b6d95d59427976": {
          "model_module": "@jupyter-widgets/base",
          "model_name": "LayoutModel",
          "model_module_version": "1.2.0",
          "state": {
            "_model_module": "@jupyter-widgets/base",
            "_model_module_version": "1.2.0",
            "_model_name": "LayoutModel",
            "_view_count": null,
            "_view_module": "@jupyter-widgets/base",
            "_view_module_version": "1.2.0",
            "_view_name": "LayoutView",
            "align_content": null,
            "align_items": null,
            "align_self": null,
            "border": null,
            "bottom": null,
            "display": null,
            "flex": null,
            "flex_flow": null,
            "grid_area": null,
            "grid_auto_columns": null,
            "grid_auto_flow": null,
            "grid_auto_rows": null,
            "grid_column": null,
            "grid_gap": null,
            "grid_row": null,
            "grid_template_areas": null,
            "grid_template_columns": null,
            "grid_template_rows": null,
            "height": null,
            "justify_content": null,
            "justify_items": null,
            "left": null,
            "margin": null,
            "max_height": null,
            "max_width": null,
            "min_height": null,
            "min_width": null,
            "object_fit": null,
            "object_position": null,
            "order": null,
            "overflow": null,
            "overflow_x": null,
            "overflow_y": null,
            "padding": null,
            "right": null,
            "top": null,
            "visibility": null,
            "width": null
          }
        },
        "211c2abfcdc94ef8aa0854d6551b40ad": {
          "model_module": "@jupyter-widgets/controls",
          "model_name": "ProgressStyleModel",
          "model_module_version": "1.5.0",
          "state": {
            "_model_module": "@jupyter-widgets/controls",
            "_model_module_version": "1.5.0",
            "_model_name": "ProgressStyleModel",
            "_view_count": null,
            "_view_module": "@jupyter-widgets/base",
            "_view_module_version": "1.2.0",
            "_view_name": "StyleView",
            "bar_color": null,
            "description_width": ""
          }
        },
        "4ad9f5b8b4b543ae8f2b0ee4dfb49767": {
          "model_module": "@jupyter-widgets/base",
          "model_name": "LayoutModel",
          "model_module_version": "1.2.0",
          "state": {
            "_model_module": "@jupyter-widgets/base",
            "_model_module_version": "1.2.0",
            "_model_name": "LayoutModel",
            "_view_count": null,
            "_view_module": "@jupyter-widgets/base",
            "_view_module_version": "1.2.0",
            "_view_name": "LayoutView",
            "align_content": null,
            "align_items": null,
            "align_self": null,
            "border": null,
            "bottom": null,
            "display": null,
            "flex": null,
            "flex_flow": null,
            "grid_area": null,
            "grid_auto_columns": null,
            "grid_auto_flow": null,
            "grid_auto_rows": null,
            "grid_column": null,
            "grid_gap": null,
            "grid_row": null,
            "grid_template_areas": null,
            "grid_template_columns": null,
            "grid_template_rows": null,
            "height": null,
            "justify_content": null,
            "justify_items": null,
            "left": null,
            "margin": null,
            "max_height": null,
            "max_width": null,
            "min_height": null,
            "min_width": null,
            "object_fit": null,
            "object_position": null,
            "order": null,
            "overflow": null,
            "overflow_x": null,
            "overflow_y": null,
            "padding": null,
            "right": null,
            "top": null,
            "visibility": null,
            "width": null
          }
        },
        "82c7e89015bc4bf5a248e72b75569555": {
          "model_module": "@jupyter-widgets/controls",
          "model_name": "DescriptionStyleModel",
          "model_module_version": "1.5.0",
          "state": {
            "_model_module": "@jupyter-widgets/controls",
            "_model_module_version": "1.5.0",
            "_model_name": "DescriptionStyleModel",
            "_view_count": null,
            "_view_module": "@jupyter-widgets/base",
            "_view_module_version": "1.2.0",
            "_view_name": "StyleView",
            "description_width": ""
          }
        }
      }
    }
  },
  "nbformat": 4,
  "nbformat_minor": 0
}